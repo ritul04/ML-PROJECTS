{
 "cells": [
  {
   "cell_type": "code",
   "execution_count": 231,
   "id": "2f3439d6",
   "metadata": {},
   "outputs": [],
   "source": [
    "import pandas as pd\n",
    "import numpy as np\n",
    "import matplotlib.pyplot as plt\n",
    "import seaborn as sns\n",
    "from sklearn.linear_model import Lasso\n",
    "from sklearn.model_selection import train_test_split\n",
    "from sklearn.linear_model import LinearRegression\n",
    "from sklearn.metrics import mean_squared_error, r2_score\n"
   ]
  },
  {
   "cell_type": "markdown",
   "id": "ea8c5621",
   "metadata": {},
   "source": [
    "Downloaded datasets from FRED"
   ]
  },
  {
   "cell_type": "code",
   "execution_count": 232,
   "id": "eb5ed69f",
   "metadata": {},
   "outputs": [],
   "source": [
    "import pandas as pd\n",
    "\n",
    "# Read the CSV files\n",
    "cpi = pd.read_csv('cpi.csv')\n",
    "job_growth = pd.read_csv('Jobgrowth.csv')\n",
    "mortgage = pd.read_csv('mortgage.csv')\n",
    "money_supply = pd.read_csv('msupply.csv')\n",
    "population = pd.read_csv('population.csv')\n",
    "unemployment_rate = pd.read_csv('unrate.csv')\n",
    "price = pd.read_csv('price.csv')"
   ]
  },
  {
   "cell_type": "code",
   "execution_count": 233,
   "id": "6d081f60",
   "metadata": {},
   "outputs": [
    {
     "name": "stdout",
     "output_type": "stream",
     "text": [
      "CPI Dataset:\n",
      "         DATE    CPI\n",
      "0  2003-07-01  183.7\n",
      "1  2003-08-01  184.5\n",
      "2  2003-09-01  185.1\n",
      "3  2003-10-01  184.9\n",
      "4  2003-11-01  185.0\n",
      "\n",
      "Job Growth Dataset:\n",
      "         DATE  JOB GROWTH\n",
      "0  2003-07-01         3.6\n",
      "1  2003-08-01         3.6\n",
      "2  2003-09-01         3.6\n",
      "3  2003-10-01         3.5\n",
      "4  2003-11-01         3.5\n",
      "\n",
      "Mortgage Dataset:\n",
      "         DATE  MORTGAGE\n",
      "0  2003-07-01    5.6325\n",
      "1  2003-08-01    6.2640\n",
      "2  2003-09-01    6.1475\n",
      "3  2003-10-01    5.9520\n",
      "4  2003-11-01    5.9325\n",
      "\n",
      "Money Supply Dataset:\n",
      "         DATE  MONEY SUPPLY\n",
      "0  2003-07-01           3.6\n",
      "1  2003-08-01           3.5\n",
      "2  2003-09-01           3.8\n",
      "3  2003-10-01           3.8\n",
      "4  2003-11-01           4.1\n",
      "\n",
      "Population Dataset:\n",
      "         DATE  POPUPLATION\n",
      "0  2003-07-01     290726.0\n",
      "1  2003-08-01     290974.0\n",
      "2  2003-09-01     291222.0\n",
      "3  2003-10-01     291463.0\n",
      "4  2003-11-01     291677.0\n",
      "\n",
      "Unemployment Rate Dataset:\n",
      "         DATE  UNRATE\n",
      "0  2003-07-01     6.2\n",
      "1  2003-08-01     6.1\n",
      "2  2003-09-01     6.1\n",
      "3  2003-10-01     6.0\n",
      "4  2003-11-01     5.8\n",
      "\n",
      "House Price Dataset:\n",
      "         DATE    PRICE\n",
      "0  2003-07-01  133.777\n",
      "1  2003-08-01  134.969\n",
      "2  2003-09-01  136.294\n",
      "3  2003-10-01  137.531\n",
      "4  2003-11-01  138.794\n"
     ]
    }
   ],
   "source": [
    "# Display the first few rows of each dataset\n",
    "print(\"CPI Dataset:\")\n",
    "print(cpi.head())\n",
    "\n",
    "print(\"\\nJob Growth Dataset:\")\n",
    "print(job_growth.head())\n",
    "\n",
    "print(\"\\nMortgage Dataset:\")\n",
    "print(mortgage.head())\n",
    "\n",
    "print(\"\\nMoney Supply Dataset:\")\n",
    "print(money_supply.head())\n",
    "\n",
    "print(\"\\nPopulation Dataset:\")\n",
    "print(population.head())\n",
    "\n",
    "print(\"\\nUnemployment Rate Dataset:\")\n",
    "print(unemployment_rate.head())\n",
    "\n",
    "print(\"\\nHouse Price Dataset:\")\n",
    "print(price.head())"
   ]
  },
  {
   "cell_type": "code",
   "execution_count": 234,
   "id": "2fe8ad48",
   "metadata": {
    "scrolled": true
   },
   "outputs": [
    {
     "name": "stdout",
     "output_type": "stream",
     "text": [
      "null values cpi.csv\n",
      "DATE    0\n",
      "CPI     0\n",
      "dtype: int64\n",
      "\n",
      "\n",
      "null values jobgrowth.csv\n",
      "DATE          0\n",
      "JOB GROWTH    0\n",
      "dtype: int64\n",
      "\n",
      "\n",
      "null values mortgage.csv\n",
      "DATE        0\n",
      "MORTGAGE    0\n",
      "dtype: int64\n",
      "\n",
      "\n",
      "null values msupply.csv\n",
      "DATE            0\n",
      "MONEY SUPPLY    0\n",
      "dtype: int64\n",
      "\n",
      "\n",
      "null values population.csv\n",
      "DATE           0\n",
      "POPUPLATION    0\n",
      "dtype: int64\n",
      "\n",
      "\n",
      "null values price.csv\n",
      "DATE     0\n",
      "PRICE    0\n",
      "dtype: int64\n",
      "\n",
      "\n",
      "null values unrate.csv\n",
      "DATE      0\n",
      "UNRATE    0\n",
      "dtype: int64\n",
      "\n",
      "\n"
     ]
    }
   ],
   "source": [
    "import pandas as pd\n",
    "import glob\n",
    "\n",
    "# Getting a list of all CSV files in the current directory\n",
    "csv_files = glob.glob('*.csv')\n",
    "\n",
    "# Loop through each CSV file and display its null values\n",
    "for file in csv_files:\n",
    "    df = pd.read_csv(file)\n",
    "    print(f\"null values {file}\")\n",
    "    print(df.isnull().sum())  \n",
    "    print(\"\\n\")  # Adding a line break between file null value count"
   ]
  },
  {
   "cell_type": "code",
   "execution_count": 235,
   "id": "98a660fa",
   "metadata": {},
   "outputs": [
    {
     "name": "stdout",
     "output_type": "stream",
     "text": [
      "(241, 8)\n",
      "         DATE    CPI  JOB GROWTH  MORTGAGE  MONEY SUPPLY  POPUPLATION  UNRATE  \\\n",
      "0  2003-07-01  183.7         3.6    5.6325           3.6     290726.0     6.2   \n",
      "1  2003-08-01  184.5         3.6    6.2640           3.5     290974.0     6.1   \n",
      "2  2003-09-01  185.1         3.6    6.1475           3.8     291222.0     6.1   \n",
      "3  2003-10-01  184.9         3.5    5.9520           3.8     291463.0     6.0   \n",
      "4  2003-11-01  185.0         3.5    5.9325           4.1     291677.0     5.8   \n",
      "\n",
      "     PRICE  \n",
      "0  133.777  \n",
      "1  134.969  \n",
      "2  136.294  \n",
      "3  137.531  \n",
      "4  138.794  \n"
     ]
    }
   ],
   "source": [
    "# Merge datasets based on the 'DATE' column\n",
    "merged_data = pd.merge(cpi, job_growth, on='DATE', how='inner')\n",
    "merged_data = pd.merge(merged_data, mortgage, on='DATE', how='inner')\n",
    "merged_data = pd.merge(merged_data, money_supply, on='DATE', how='inner')\n",
    "merged_data = pd.merge(merged_data, population, on='DATE', how='inner')\n",
    "merged_data = pd.merge(merged_data, unemployment_rate, on='DATE', how='inner')\n",
    "merged_data = pd.merge(merged_data, price, on='DATE', how='inner')\n",
    "# Check the shape and sample of the combined dataset\n",
    "print(merged_data.shape)\n",
    "print(merged_data.head())\n"
   ]
  },
  {
   "cell_type": "code",
   "execution_count": 236,
   "id": "d96660d3",
   "metadata": {},
   "outputs": [
    {
     "name": "stdout",
     "output_type": "stream",
     "text": [
      "<class 'pandas.core.frame.DataFrame'>\n",
      "Int64Index: 241 entries, 0 to 240\n",
      "Data columns (total 8 columns):\n",
      " #   Column        Non-Null Count  Dtype  \n",
      "---  ------        --------------  -----  \n",
      " 0   DATE          241 non-null    object \n",
      " 1   CPI           241 non-null    float64\n",
      " 2   JOB GROWTH    241 non-null    float64\n",
      " 3   MORTGAGE      241 non-null    float64\n",
      " 4   MONEY SUPPLY  241 non-null    float64\n",
      " 5   POPUPLATION   241 non-null    float64\n",
      " 6   UNRATE        241 non-null    float64\n",
      " 7   PRICE         241 non-null    float64\n",
      "dtypes: float64(7), object(1)\n",
      "memory usage: 16.9+ KB\n"
     ]
    }
   ],
   "source": [
    "merged_data.info()"
   ]
  },
  {
   "cell_type": "code",
   "execution_count": 237,
   "id": "efa6f82f",
   "metadata": {},
   "outputs": [],
   "source": [
    "merged_data.to_csv('D:excel/merged_data.csv', index=False)"
   ]
  },
  {
   "cell_type": "code",
   "execution_count": 238,
   "id": "c6582af5",
   "metadata": {},
   "outputs": [
    {
     "data": {
      "text/html": [
       "<div>\n",
       "<style scoped>\n",
       "    .dataframe tbody tr th:only-of-type {\n",
       "        vertical-align: middle;\n",
       "    }\n",
       "\n",
       "    .dataframe tbody tr th {\n",
       "        vertical-align: top;\n",
       "    }\n",
       "\n",
       "    .dataframe thead th {\n",
       "        text-align: right;\n",
       "    }\n",
       "</style>\n",
       "<table border=\"1\" class=\"dataframe\">\n",
       "  <thead>\n",
       "    <tr style=\"text-align: right;\">\n",
       "      <th></th>\n",
       "      <th>DATE</th>\n",
       "      <th>PRICE</th>\n",
       "    </tr>\n",
       "  </thead>\n",
       "  <tbody>\n",
       "    <tr>\n",
       "      <th>0</th>\n",
       "      <td>2003-07-01</td>\n",
       "      <td>133.777</td>\n",
       "    </tr>\n",
       "    <tr>\n",
       "      <th>1</th>\n",
       "      <td>2003-08-01</td>\n",
       "      <td>134.969</td>\n",
       "    </tr>\n",
       "    <tr>\n",
       "      <th>2</th>\n",
       "      <td>2003-09-01</td>\n",
       "      <td>136.294</td>\n",
       "    </tr>\n",
       "    <tr>\n",
       "      <th>3</th>\n",
       "      <td>2003-10-01</td>\n",
       "      <td>137.531</td>\n",
       "    </tr>\n",
       "    <tr>\n",
       "      <th>4</th>\n",
       "      <td>2003-11-01</td>\n",
       "      <td>138.794</td>\n",
       "    </tr>\n",
       "    <tr>\n",
       "      <th>...</th>\n",
       "      <td>...</td>\n",
       "      <td>...</td>\n",
       "    </tr>\n",
       "    <tr>\n",
       "      <th>236</th>\n",
       "      <td>2023-03-01</td>\n",
       "      <td>298.637</td>\n",
       "    </tr>\n",
       "    <tr>\n",
       "      <th>237</th>\n",
       "      <td>2023-04-01</td>\n",
       "      <td>300.213</td>\n",
       "    </tr>\n",
       "    <tr>\n",
       "      <th>238</th>\n",
       "      <td>2023-05-01</td>\n",
       "      <td>302.566</td>\n",
       "    </tr>\n",
       "    <tr>\n",
       "      <th>239</th>\n",
       "      <td>2023-06-01</td>\n",
       "      <td>304.593</td>\n",
       "    </tr>\n",
       "    <tr>\n",
       "      <th>240</th>\n",
       "      <td>2023-07-01</td>\n",
       "      <td>306.767</td>\n",
       "    </tr>\n",
       "  </tbody>\n",
       "</table>\n",
       "<p>241 rows × 2 columns</p>\n",
       "</div>"
      ],
      "text/plain": [
       "           DATE    PRICE\n",
       "0    2003-07-01  133.777\n",
       "1    2003-08-01  134.969\n",
       "2    2003-09-01  136.294\n",
       "3    2003-10-01  137.531\n",
       "4    2003-11-01  138.794\n",
       "..          ...      ...\n",
       "236  2023-03-01  298.637\n",
       "237  2023-04-01  300.213\n",
       "238  2023-05-01  302.566\n",
       "239  2023-06-01  304.593\n",
       "240  2023-07-01  306.767\n",
       "\n",
       "[241 rows x 2 columns]"
      ]
     },
     "execution_count": 238,
     "metadata": {},
     "output_type": "execute_result"
    }
   ],
   "source": [
    "price"
   ]
  },
  {
   "cell_type": "code",
   "execution_count": 239,
   "id": "fcaece9c",
   "metadata": {},
   "outputs": [
    {
     "data": {
      "text/html": [
       "<div>\n",
       "<style scoped>\n",
       "    .dataframe tbody tr th:only-of-type {\n",
       "        vertical-align: middle;\n",
       "    }\n",
       "\n",
       "    .dataframe tbody tr th {\n",
       "        vertical-align: top;\n",
       "    }\n",
       "\n",
       "    .dataframe thead th {\n",
       "        text-align: right;\n",
       "    }\n",
       "</style>\n",
       "<table border=\"1\" class=\"dataframe\">\n",
       "  <thead>\n",
       "    <tr style=\"text-align: right;\">\n",
       "      <th></th>\n",
       "      <th>CPI</th>\n",
       "      <th>JOB GROWTH</th>\n",
       "      <th>MORTGAGE</th>\n",
       "      <th>MONEY SUPPLY</th>\n",
       "      <th>POPUPLATION</th>\n",
       "      <th>UNRATE</th>\n",
       "      <th>PRICE</th>\n",
       "    </tr>\n",
       "  </thead>\n",
       "  <tbody>\n",
       "    <tr>\n",
       "      <th>count</th>\n",
       "      <td>241.000000</td>\n",
       "      <td>241.000000</td>\n",
       "      <td>241.000000</td>\n",
       "      <td>241.000000</td>\n",
       "      <td>241.000000</td>\n",
       "      <td>241.000000</td>\n",
       "      <td>241.000000</td>\n",
       "    </tr>\n",
       "    <tr>\n",
       "      <th>mean</th>\n",
       "      <td>233.297261</td>\n",
       "      <td>3.126971</td>\n",
       "      <td>4.711035</td>\n",
       "      <td>6.236515</td>\n",
       "      <td>316020.917012</td>\n",
       "      <td>5.940249</td>\n",
       "      <td>185.401859</td>\n",
       "    </tr>\n",
       "    <tr>\n",
       "      <th>std</th>\n",
       "      <td>28.982511</td>\n",
       "      <td>0.896137</td>\n",
       "      <td>1.139193</td>\n",
       "      <td>1.936340</td>\n",
       "      <td>13499.502735</td>\n",
       "      <td>2.072377</td>\n",
       "      <td>45.082768</td>\n",
       "    </tr>\n",
       "    <tr>\n",
       "      <th>min</th>\n",
       "      <td>183.700000</td>\n",
       "      <td>1.600000</td>\n",
       "      <td>2.684000</td>\n",
       "      <td>3.300000</td>\n",
       "      <td>290726.000000</td>\n",
       "      <td>3.400000</td>\n",
       "      <td>133.777000</td>\n",
       "    </tr>\n",
       "    <tr>\n",
       "      <th>25%</th>\n",
       "      <td>212.709000</td>\n",
       "      <td>2.600000</td>\n",
       "      <td>3.802500</td>\n",
       "      <td>4.900000</td>\n",
       "      <td>304646.000000</td>\n",
       "      <td>4.400000</td>\n",
       "      <td>149.963000</td>\n",
       "    </tr>\n",
       "    <tr>\n",
       "      <th>50%</th>\n",
       "      <td>232.937000</td>\n",
       "      <td>3.200000</td>\n",
       "      <td>4.457500</td>\n",
       "      <td>5.600000</td>\n",
       "      <td>317156.000000</td>\n",
       "      <td>5.300000</td>\n",
       "      <td>174.792000</td>\n",
       "    </tr>\n",
       "    <tr>\n",
       "      <th>75%</th>\n",
       "      <td>251.214000</td>\n",
       "      <td>3.700000</td>\n",
       "      <td>5.820000</td>\n",
       "      <td>7.300000</td>\n",
       "      <td>328863.000000</td>\n",
       "      <td>7.300000</td>\n",
       "      <td>202.913000</td>\n",
       "    </tr>\n",
       "    <tr>\n",
       "      <th>max</th>\n",
       "      <td>304.348000</td>\n",
       "      <td>5.700000</td>\n",
       "      <td>6.900000</td>\n",
       "      <td>12.200000</td>\n",
       "      <td>335329.000000</td>\n",
       "      <td>14.700000</td>\n",
       "      <td>306.767000</td>\n",
       "    </tr>\n",
       "  </tbody>\n",
       "</table>\n",
       "</div>"
      ],
      "text/plain": [
       "              CPI  JOB GROWTH    MORTGAGE  MONEY SUPPLY    POPUPLATION  \\\n",
       "count  241.000000  241.000000  241.000000    241.000000     241.000000   \n",
       "mean   233.297261    3.126971    4.711035      6.236515  316020.917012   \n",
       "std     28.982511    0.896137    1.139193      1.936340   13499.502735   \n",
       "min    183.700000    1.600000    2.684000      3.300000  290726.000000   \n",
       "25%    212.709000    2.600000    3.802500      4.900000  304646.000000   \n",
       "50%    232.937000    3.200000    4.457500      5.600000  317156.000000   \n",
       "75%    251.214000    3.700000    5.820000      7.300000  328863.000000   \n",
       "max    304.348000    5.700000    6.900000     12.200000  335329.000000   \n",
       "\n",
       "           UNRATE       PRICE  \n",
       "count  241.000000  241.000000  \n",
       "mean     5.940249  185.401859  \n",
       "std      2.072377   45.082768  \n",
       "min      3.400000  133.777000  \n",
       "25%      4.400000  149.963000  \n",
       "50%      5.300000  174.792000  \n",
       "75%      7.300000  202.913000  \n",
       "max     14.700000  306.767000  "
      ]
     },
     "execution_count": 239,
     "metadata": {},
     "output_type": "execute_result"
    }
   ],
   "source": [
    "\n",
    "# Display summary statistics of numerical columns\n",
    "merged_data.describe()\n"
   ]
  },
  {
   "cell_type": "code",
   "execution_count": 240,
   "id": "b59f191d",
   "metadata": {},
   "outputs": [
    {
     "name": "stdout",
     "output_type": "stream",
     "text": [
      "DATE            0\n",
      "CPI             0\n",
      "JOB GROWTH      0\n",
      "MORTGAGE        0\n",
      "MONEY SUPPLY    0\n",
      "POPUPLATION     0\n",
      "UNRATE          0\n",
      "PRICE           0\n",
      "dtype: int64\n"
     ]
    }
   ],
   "source": [
    "# Check for missing values\n",
    "missing_values = merged_data.isnull().sum()\n",
    "print(missing_values)\n"
   ]
  },
  {
   "cell_type": "code",
   "execution_count": 241,
   "id": "322609ba",
   "metadata": {},
   "outputs": [
    {
     "data": {
      "image/png": "[encoded data removed]",
      "text/plain": [
       "<Figure size 864x576 with 7 Axes>"
      ]
     },
     "metadata": {
      "needs_background": "light"
     },
     "output_type": "display_data"
    }
   ],
   "source": [
    "# Plot histograms for numerical columns\n",
    "import matplotlib.pyplot as plt\n",
    "\n",
    "numerical_columns = merged_data.select_dtypes(include=['float64', 'int64']).columns\n",
    "\n",
    "plt.figure(figsize=(12, 8))\n",
    "for i, column in enumerate(numerical_columns, 1):\n",
    "    plt.subplot(2, len(numerical_columns) // 2 + 1, i)\n",
    "    plt.hist(merged_data[column], bins=20)\n",
    "    plt.title(column)\n",
    "    plt.xlabel('Values')\n",
    "    plt.ylabel('Frequency')\n",
    "\n",
    "plt.tight_layout()\n",
    "plt.show()\n"
   ]
  },
  {
   "cell_type": "code",
   "execution_count": 242,
   "id": "d6af344c",
   "metadata": {},
   "outputs": [
    {
     "data": {
      "image/png": "[encoded data removed]",
      "text/plain": [
       "<Figure size 720x576 with 2 Axes>"
      ]
     },
     "metadata": {
      "needs_background": "light"
     },
     "output_type": "display_data"
    }
   ],
   "source": [
    "# Plot correlation heatmap\n",
    "correlation_matrix = merged_data.corr()\n",
    "plt.figure(figsize=(10, 8))\n",
    "sns.heatmap(correlation_matrix, annot=True, cmap='coolwarm', fmt=\".2f\")\n",
    "plt.title('Correlation Heatmap')\n",
    "plt.show()\n"
   ]
  },
  {
   "cell_type": "markdown",
   "id": "cd859866",
   "metadata": {},
   "source": [
    "Interpreting the Heatmap:\n",
    "A correlation coefficient ranges between -1 to 1, where:\n",
    "1 indicates a perfect positive correlation (as one variable increases, the other also increases proportionally).\n",
    "-1 indicates a perfect negative correlation (as one variable increases, the other decreases proportionally).\n",
    "0 indicates no correlation.\n",
    "Interpretations from the Heatmap:\n",
    "    \n",
    "#Strong positive correlation:\n",
    "\n",
    "CPI and POPULATION have a strong positive correlation of 0.95. This suggests that as one variable increases, the other tends to increase almost in lockstep.\n",
    "\n",
    "CPI and PRICE also show a relatively strong positive correlation of 0.83.\n",
    "\n",
    "#Moderate positive correlation:\n",
    "\n",
    "PRICE and POPULATION exhibit a moderate positive correlation of 0.68.\n",
    "\n",
    "JOB GROWTH and PRICE have a moderate positive correlation of 0.64.\n",
    "\n",
    "MORTGAGE and JOB GROWTH have a moderate positive correlation of 0.59.\n",
    "\n",
    "#Weak positive correlation:\n",
    "\n",
    "UNRATE and CPI show a weak positive correlation of 0.39.\n",
    "\n",
    "JOB GROTH and PRICE show a weak positive correlation of 0.25\n",
    "\n",
    "#Weak negative correlation:\n",
    "\n",
    "MORTGAGE and POPULATION have a weak negative correlation of -0.63.\n",
    "\n",
    "UNRATE and JOB GROWTH have a weak negative correlation of -0.55.\n",
    "\n",
    "\n",
    "UNRATE and PRICE have a weak negative correlation of -0.54.\n",
    "\n",
    "CPI and MORTGAGE have a weak negative correlation of -0.42."
   ]
  },
  {
   "cell_type": "code",
   "execution_count": 243,
   "id": "c3596fc3",
   "metadata": {},
   "outputs": [
    {
     "data": {
      "image/png": "[encoded data removed]",
      "text/plain": [
       "<Figure size 864x576 with 7 Axes>"
      ]
     },
     "metadata": {
      "needs_background": "light"
     },
     "output_type": "display_data"
    }
   ],
   "source": [
    "# Boxplots for numerical columns\n",
    "plt.figure(figsize=(12, 8))\n",
    "for i, column in enumerate(numerical_columns, 1):\n",
    "    plt.subplot(2, len(numerical_columns) // 2 + 1, i)\n",
    "    sns.boxplot(data=merged_data, y=column)\n",
    "    plt.title(column)\n",
    "    plt.ylabel('Values')\n",
    "\n",
    "plt.tight_layout()\n",
    "plt.show()\n"
   ]
  },
  {
   "cell_type": "code",
   "execution_count": 245,
   "id": "35e14690",
   "metadata": {},
   "outputs": [],
   "source": [
    "\n",
    "# Log transformation for 'MONEY SUPPLY' 'UNRATE' 'PRICE' 'JOB GROWTH'\n",
    "\n",
    "merged_data['MONEY SUPPLY'] = np.log1p(merged_data['MONEY SUPPLY'])\n",
    "merged_data['UNRATE'] = np.log1p(merged_data['UNRATE'])\n",
    "merged_data['PRICE'] = np.log1p(merged_data['PRICE'])\n",
    "merged_data['JOB GROWTH'] = np.log1p(merged_data['JOB GROWTH'])\n"
   ]
  },
  {
   "cell_type": "markdown",
   "id": "680bfb8d",
   "metadata": {},
   "source": [
    "# LINEAR REGRESSION MODEL"
   ]
  },
  {
   "cell_type": "code",
   "execution_count": 247,
   "id": "3c58f591",
   "metadata": {},
   "outputs": [
    {
     "name": "stdout",
     "output_type": "stream",
     "text": [
      "Mean Squared Error: 2.330359510831458e-30\n",
      "R-squared: 1.0\n"
     ]
    }
   ],
   "source": [
    "\n",
    "# Prepare features and target variable\n",
    "features = merged_data[[ 'CPI', 'JOB GROWTH', 'MORTGAGE', 'MONEY SUPPLY', 'POPUPLATION', 'UNRATE', 'PRICE']]\n",
    "target = merged_data['PRICE'] \n",
    "\n",
    "# Split the data into training and testing sets\n",
    "X_train, X_test, y_train, y_test = train_test_split(features, target, test_size=0.2, random_state=42)\n",
    "\n",
    "# Create and train a Linear Regression model\n",
    "model = LinearRegression()\n",
    "model.fit(X_train, y_train)\n",
    "\n",
    "# Make predictions\n",
    "y_pred = model.predict(X_test)\n",
    "\n",
    "# Evaluate the model\n",
    "mse = mean_squared_error(y_test, y_pred)\n",
    "r2 = r2_score(y_test, y_pred)\n",
    "\n",
    "print(f\"Mean Squared Error: {mse}\")\n",
    "print(f\"R-squared: {r2}\")\n"
   ]
  },
  {
   "cell_type": "markdown",
   "id": "295bdd0d",
   "metadata": {},
   "source": [
    "# DECISION TREE MODEL"
   ]
  },
  {
   "cell_type": "code",
   "execution_count": 248,
   "id": "b1c77d6a",
   "metadata": {},
   "outputs": [
    {
     "name": "stdout",
     "output_type": "stream",
     "text": [
      "Decision Tree - Mean Squared Error: 5.54663239594756e-06\n",
      "Decision Tree - R-squared: 0.9959478616309834\n"
     ]
    }
   ],
   "source": [
    "from sklearn.tree import DecisionTreeRegressor\n",
    "\n",
    "# Create a Decision Tree model\n",
    "decision_tree = DecisionTreeRegressor(random_state=42)\n",
    "\n",
    "# Train the Decision Tree model\n",
    "decision_tree.fit(X_train, y_train)\n",
    "\n",
    "# Make predictions\n",
    "y_pred_dt = decision_tree.predict(X_test)\n",
    "\n",
    "# Evaluate the Decision Tree model\n",
    "mse_dt = mean_squared_error(y_test, y_pred_dt)\n",
    "r2_dt = r2_score(y_test, y_pred_dt)\n",
    "\n",
    "print(f\"Decision Tree - Mean Squared Error: {mse_dt}\")\n",
    "print(f\"Decision Tree - R-squared: {r2_dt}\")\n"
   ]
  },
  {
   "cell_type": "markdown",
   "id": "52aaa6f6",
   "metadata": {},
   "source": [
    "# RANDOM FOREST MODEL"
   ]
  },
  {
   "cell_type": "code",
   "execution_count": 249,
   "id": "0b5b7019",
   "metadata": {},
   "outputs": [
    {
     "name": "stdout",
     "output_type": "stream",
     "text": [
      "Random Forest - Mean Squared Error: 3.420853865093274e-07\n",
      "Random Forest - R-squared: 0.9997500866794116\n"
     ]
    }
   ],
   "source": [
    "from sklearn.ensemble import RandomForestRegressor\n",
    "\n",
    "# Create a Random Forest model\n",
    "random_forest = RandomForestRegressor(random_state=42)\n",
    "\n",
    "# Train the Random Forest model\n",
    "random_forest.fit(X_train, y_train)\n",
    "\n",
    "# Make predictions\n",
    "y_pred_rf = random_forest.predict(X_test)\n",
    "\n",
    "# Evaluate the Random Forest model\n",
    "mse_rf = mean_squared_error(y_test, y_pred_rf)\n",
    "r2_rf = r2_score(y_test, y_pred_rf)\n",
    "\n",
    "print(f\"Random Forest - Mean Squared Error: {mse_rf}\")\n",
    "print(f\"Random Forest - R-squared: {r2_rf}\")\n"
   ]
  },
  {
   "cell_type": "markdown",
   "id": "2827f85b",
   "metadata": {},
   "source": [
    "Linear Regression:\n",
    "    \n",
    "#Mean Squared Error (MSE): Super close to zero, almost perfect predictions.\n",
    "#R-squared: A perfect score, understands the prices perfectly, might be too perfect for new problems.\n",
    "\n",
    "Decision Tree:\n",
    "\n",
    "#Mean Squared Error (MSE): Small errors, quite accurate but not as perfect as the first model.\n",
    "#R-squared: Gets most things right, really good understanding but not flawless.\n",
    "\n",
    "Random Forest:\n",
    "\n",
    "#Mean Squared Error (MSE): Very tiny errors, incredibly close to perfection.\n",
    "#R-squared: Almost perfect, nearly flawless understanding of prices.\n",
    "\n",
    "In short, each model predicts house prices. The first is almost too perfect, the second is really good but not perfect, and the third is incredibly close to perfect in guessing prices. They each have strengths, but the last one seems to understand prices the best among them!\n",
    "\n",
    "\n",
    "\n",
    "\n",
    "\n",
    "\n"
   ]
  },
  {
   "cell_type": "markdown",
   "id": "6fe2067a",
   "metadata": {},
   "source": [
    "# THANKYOU!\n",
    "RITUL PAWAR"
   ]
  },
  {
   "cell_type": "code",
   "execution_count": null,
   "id": "38052b43",
   "metadata": {},
   "outputs": [],
   "source": []
  }
 ],
 "metadata": {
  "kernelspec": {
   "display_name": "Python 3 (ipykernel)",
   "language": "python",
   "name": "python3"
  },
  "language_info": {
   "codemirror_mode": {
    "name": "ipython",
    "version": 3
   },
   "file_extension": ".py",
   "mimetype": "text/x-python",
   "name": "python",
   "nbconvert_exporter": "python",
   "pygments_lexer": "ipython3",
   "version": "3.9.12"
  }
 },
 "nbformat": 4,
 "nbformat_minor": 5
}
